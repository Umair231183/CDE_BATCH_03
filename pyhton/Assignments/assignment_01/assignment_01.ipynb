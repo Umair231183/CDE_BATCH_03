{
 "cells": [
  {
   "cell_type": "markdown",
   "id": "4d48781f",
   "metadata": {},
   "source": [
    "Part -1 Python Basics (Variables)"
   ]
  },
  {
   "cell_type": "markdown",
   "id": "79fac8ed",
   "metadata": {},
   "source": [
    "1. Print Your Name with your Father name and Date of birth using suitable escape sequence charactor"
   ]
  },
  {
   "cell_type": "code",
   "execution_count": 1,
   "id": "5b2bc7dc",
   "metadata": {
    "vscode": {
     "languageId": "plaintext"
    }
   },
   "outputs": [
    {
     "name": "stdout",
     "output_type": "stream",
     "text": [
      "Hafiz Muhammad Umair\n",
      " Muhammad Amir Ali\n",
      " 2006\\Dec\u000b",
      "\n"
     ]
    }
   ],
   "source": [
    "print(\"Hafiz Muhammad Umair\\n Muhammad Amir Ali\\n 2006\\Dec\\13\")"
   ]
  },
  {
   "cell_type": "markdown",
   "id": "eef692d5",
   "metadata": {},
   "source": [
    "2. Write your small bio using variables and print it using print function"
   ]
  },
  {
   "cell_type": "code",
   "execution_count": 2,
   "id": "3697be27",
   "metadata": {
    "vscode": {
     "languageId": "plaintext"
    }
   },
   "outputs": [
    {
     "name": "stdout",
     "output_type": "stream",
     "text": [
      "I'm Hafiz Umair passionate upcomming Colud Data Engineer\n"
     ]
    }
   ],
   "source": [
    "bio = \"I'm Hafiz Umair passionate upcomming Colud Data Engineer\"\n",
    "print(bio)"
   ]
  },
  {
   "cell_type": "markdown",
   "id": "aa411e93",
   "metadata": {},
   "source": [
    "3. Write a program in which use all the operators we can use in Python"
   ]
  },
  {
   "cell_type": "code",
   "execution_count": 26,
   "id": "fb2cd6fa",
   "metadata": {
    "vscode": {
     "languageId": "plaintext"
    }
   },
   "outputs": [
    {
     "name": "stdin",
     "output_type": "stream",
     "text": [
      "Enter your Number Here : 70\n"
     ]
    },
    {
     "name": "stdout",
     "output_type": "stream",
     "text": [
      "You secure a good score B \n"
     ]
    }
   ],
   "source": [
    "number = int(input('Enter your Number Here :'))\n",
    "if(number >= 90):\n",
    "    print(f'You secure a greate score A+')\n",
    "elif(number >= 80):\n",
    "    print(f'You secure a very good score A')\n",
    "elif(number >= 70):\n",
    "    print(f'You secure a good score B ')\n",
    "elif(number >= 60):\n",
    "    print(f'You secure a decent score C')\n",
    "elif(number >= 35):\n",
    "    print(f'You secure a normal score D')\n",
    "else:\n",
    "    print(f'You are failed!')"
   ]
  },
  {
   "cell_type": "markdown",
   "id": "64a0329d-7318-436d-9e7d-b3c6517e0565",
   "metadata": {},
   "source": [
    "4. Completes the following steps of small task:\\n\",\n",
    "    \"    - Mention Marks of English , Islamiat and Maths out of 100 in 3 different variables\\n\",\n",
    "    \"    - Mention Variable of Total Marks and assign 300 to it\\n\",\n",
    "    \"    - Calculate Percentage\""
   ]
  },
  {
   "cell_type": "code",
   "execution_count": 16,
   "id": "b3a64ec9-ef36-464c-9377-2f11afa18e1e",
   "metadata": {},
   "outputs": [
    {
     "name": "stdout",
     "output_type": "stream",
     "text": [
      "Obtained: 240/300\n",
      "80.0\n"
     ]
    }
   ],
   "source": [
    "english = 80\n",
    "maths = 80\n",
    "islamiat = 80\n",
    "total_marks = 300\n",
    "obtained = english + maths + islamiat\n",
    "calculate_percentage = (obtained/total_marks)*100\n",
    "print(f'Obtained: {obtained}/{total_marks}')\n",
    "print(calculate_percentage)"
   ]
  },
  {
   "cell_type": "markdown",
   "id": "98149a4d-c60c-4eaa-a3fb-143d44953b16",
   "metadata": {},
   "source": [
    "Part -2 Python Basics (Conditional Statements)"
   ]
  },
  {
   "cell_type": "markdown",
   "id": "a40781ff-88ba-4259-8d35-a84b687163e8",
   "metadata": {},
   "source": [
    "1) A company decided to give bonus of 5% to employee if his/her year of service is more than 5 years.\\n\",\n",
    "    \"Ask user for their salary and year of service and print the net bonus amount.\""
   ]
  },
  {
   "cell_type": "code",
   "execution_count": 20,
   "id": "c0b1c64d-e95d-40c8-8b23-75220fbb6e27",
   "metadata": {},
   "outputs": [
    {
     "name": "stdin",
     "output_type": "stream",
     "text": [
      "Enter Your Sallary : 600000\n",
      "Enter Your year of service in this company : 6\n"
     ]
    },
    {
     "name": "stdout",
     "output_type": "stream",
     "text": [
      "Congrats you got 30000.0 bonus amount.\n"
     ]
    }
   ],
   "source": [
    "user = float(input(\"Enter Your Sallary :\"))\n",
    "year_of_service = int(input(\"Enter Your year of service in this company :\"))\n",
    "\n",
    "if(year_of_service > 5):\n",
    "    bonus_amount = user * 0.05\n",
    "    print(f'Congrats you got {bonus_amount} bonus amount.')\n",
    "else:\n",
    "    print('You are not eligible for bonus amount.')\n"
   ]
  },
  {
   "cell_type": "markdown",
   "id": "fe4f910b-dd6b-4c43-86c2-2e994cab55b7",
   "metadata": {},
   "source": [
    "2) Write a program to check whether a person is eligible for voting or not. (accept age from user) if age is greater than 17 eligible otherwise not eligible"
   ]
  },
  {
   "cell_type": "code",
   "execution_count": 22,
   "id": "626ba776-1c9c-438a-a057-08dde3cc0355",
   "metadata": {},
   "outputs": [
    {
     "name": "stdin",
     "output_type": "stream",
     "text": [
      "Enter Your age Here : 16\n"
     ]
    },
    {
     "name": "stdout",
     "output_type": "stream",
     "text": [
      "You are not eligible for voting\n"
     ]
    }
   ],
   "source": [
    "eligible_age_for_voting = 17\n",
    "user_input = int(input(\"Enter Your age Here :\"))\n",
    "\n",
    "if(user_input > 17):\n",
    "    print(f'You are eligible for voting')\n",
    "else:\n",
    "    print(f'You are not eligible for voting')"
   ]
  },
  {
   "cell_type": "markdown",
   "id": "e2b834f3-6115-4757-a40d-fb8a009031a7",
   "metadata": {},
   "source": [
    "3) Write a program to check whether a number entered by user is even or odd."
   ]
  },
  {
   "cell_type": "code",
   "execution_count": 24,
   "id": "9c159500-1bc8-4c9c-b1c7-ec9bf0051536",
   "metadata": {},
   "outputs": [
    {
     "name": "stdin",
     "output_type": "stream",
     "text": [
      "Enter Your Number Here :  9\n"
     ]
    },
    {
     "name": "stdout",
     "output_type": "stream",
     "text": [
      "9 is Odd\n"
     ]
    }
   ],
   "source": [
    "user_input = int(input(\"Enter Your Number Here : \"))\n",
    "if(user_input % 2 == 0 ):\n",
    "    print(f'{user_input} is Even')\n",
    "else:\n",
    "    print(f'{user_input} is Odd')\n",
    "    "
   ]
  },
  {
   "cell_type": "markdown",
   "id": "e9e12574-b753-433e-9b28-1504f356a181",
   "metadata": {},
   "source": [
    "4) Write a program to check whether a number is divisible by 7 or not.\\n"
   ]
  },
  {
   "cell_type": "code",
   "execution_count": 26,
   "id": "14898905-cda4-4e9c-b0c1-06b9f47c79c1",
   "metadata": {},
   "outputs": [
    {
     "name": "stdin",
     "output_type": "stream",
     "text": [
      "Enter Your Number Here :  15\n"
     ]
    },
    {
     "name": "stdout",
     "output_type": "stream",
     "text": [
      "15 is not divisible by 7\n"
     ]
    }
   ],
   "source": [
    "number = int(input(\"Enter Your Number Here : \"))\n",
    "\n",
    "if(number %7 ==0):\n",
    "    print(f\"{number} is divisible by 7\")\n",
    "else:\n",
    "    print(f\"{number} is not divisible by 7\")\n",
    "    "
   ]
  },
  {
   "cell_type": "markdown",
   "id": "701d7153-1a5b-4dbd-b2a3-55a061f278fa",
   "metadata": {},
   "source": [
    "Write a program to display \\n\",\n",
    "    \"\\\"Hello\\\" if a number entered by user is a multiple of five , otherwise print \\\"Bye\\\"."
   ]
  },
  {
   "cell_type": "code",
   "execution_count": 41,
   "id": "e38c1190-5ab2-485f-99fb-d3b6f6466124",
   "metadata": {},
   "outputs": [
    {
     "name": "stdin",
     "output_type": "stream",
     "text": [
      "Enter Your Number Here :  26\n"
     ]
    },
    {
     "name": "stdout",
     "output_type": "stream",
     "text": [
      "Bye\n"
     ]
    }
   ],
   "source": [
    "user_input  = int(input(\"Enter Your Number Here : \"))\n",
    "if(user_input % 5 ==0 ):\n",
    "    print('Hello')\n",
    "else:\n",
    "    print('Bye')"
   ]
  },
  {
   "cell_type": "markdown",
   "id": "3a2e4297-baa1-46bc-91e9-49bb113ffdeb",
   "metadata": {},
   "source": [
    "7) Write a program to display the last digit of a number."
   ]
  },
  {
   "cell_type": "code",
   "execution_count": 42,
   "id": "b21d4d44-612a-4daa-acf5-52f44dcd2a6f",
   "metadata": {},
   "outputs": [
    {
     "name": "stdin",
     "output_type": "stream",
     "text": [
      "Enter a number:  14\n"
     ]
    },
    {
     "name": "stdout",
     "output_type": "stream",
     "text": [
      "The last digit is: 4\n"
     ]
    }
   ],
   "source": [
    "n = int(input('Enter a number: '))\n",
    "last_digit = abs(n) % 10\n",
    "print(\"The last digit is:\", last_digit)"
   ]
  },
  {
   "cell_type": "markdown",
   "id": "401b8c9a-e20a-44aa-88bf-6f16f33f1ed7",
   "metadata": {},
   "source": [
    "9. Take values of length and breadth of a rectangle from user and print if it is square or rectangle."
   ]
  },
  {
   "cell_type": "code",
   "execution_count": 45,
   "id": "bc31509b-38c0-4a07-98ef-d90939137a86",
   "metadata": {},
   "outputs": [
    {
     "name": "stdin",
     "output_type": "stream",
     "text": [
      "Enter length Here: 5\n",
      "Enter breadth Here: 5\n"
     ]
    },
    {
     "name": "stdout",
     "output_type": "stream",
     "text": [
      "It is a square\n"
     ]
    }
   ],
   "source": [
    "length = float(input('Enter length Here:'))\n",
    "breadth = float(input(\"Enter breadth Here:\"))\n",
    "\n",
    "if(length == breadth):\n",
    "    print(f'It is a square')\n",
    "else:\n",
    "    print(f'It is a rectangle')"
   ]
  },
  {
   "cell_type": "markdown",
   "id": "1ed29c78-5ceb-49f6-8d6c-e595907f3ccb",
   "metadata": {},
   "source": [
    "10) Take two int values from user and print greatest among them."
   ]
  },
  {
   "cell_type": "code",
   "execution_count": 48,
   "id": "2a1ea893-7933-4055-9063-588049fcf75c",
   "metadata": {},
   "outputs": [
    {
     "name": "stdin",
     "output_type": "stream",
     "text": [
      "Enter first value here: 45\n",
      "Enter seconf value here: 50\n"
     ]
    },
    {
     "name": "stdout",
     "output_type": "stream",
     "text": [
      "50 is greater than 45\n"
     ]
    }
   ],
   "source": [
    "user_value1 = int(input(\"Enter first value here:\"))\n",
    "user_value2 = int(input(\"Enter second value here:\"))\n",
    "\n",
    "if(user_value1 > user_value2):\n",
    "    print(f'{user_value1} is greater than {user_value2}')\n",
    "else:\n",
    "    print(f'{user_value2} is greater than {user_value1}')"
   ]
  },
  {
   "cell_type": "markdown",
   "id": "78b56f6c-91b9-4823-8c11-91c6cf7ee19f",
   "metadata": {},
   "source": [
    "11) A shop will give discount of 10% if the cost of purchased quantity is more than 1000.\\n\",\n",
    "    \"Ask user for quantity\\n\",\n",
    "    \"Suppose, one unit will cost 100.\\n\",\n",
    "    \"Judge and print total cost for user.\""
   ]
  },
  {
   "cell_type": "code",
   "execution_count": 50,
   "id": "d3791be0-ef53-4870-9331-8d52fa875cc0",
   "metadata": {},
   "outputs": [
    {
     "name": "stdin",
     "output_type": "stream",
     "text": [
      "Enter your quantity here : 7\n"
     ]
    },
    {
     "name": "stdout",
     "output_type": "stream",
     "text": [
      "Total cost no discount 700\n"
     ]
    }
   ],
   "source": [
    "quantity = int(input(\"Enter your quantity here :\"))\n",
    "one_unit = 100\n",
    "total_cost = quantity * one_unit\n",
    "if(total_cost > 1000):\n",
    "    discount_cost = total_cost * 0.9\n",
    "    print(f'Original total cost : {total_cost}')\n",
    "    print(f'Discounted total cost of (10%) is : {discount_cost} ')\n",
    "else:\n",
    "    print(f'Total cost no discount {total_cost}')"
   ]
  },
  {
   "cell_type": "markdown",
   "id": "878e6ede-a5e1-4dcf-a214-b8b6d80e3ba0",
   "metadata": {},
   "source": [
    "12) A school has following rules for grading system:\\n\",\n",
    "    \"\\n\",\n",
    "    \"a. Below 25 - F\\n\",\n",
    "    \"\\n\",\n",
    "    \"b. 25 to 45 - E\\n\",\n",
    "    \"\\n\",\n",
    "    \"c. 45 to 50 - D\\n\",\n",
    "    \"\\n\",\n",
    "    \"d. 50 to 60 - C\\n\",\n",
    "    \"\\n\",\n",
    "    \"e. 60 to 80 - B\\n\",\n",
    "    \"\\n\",\n",
    "    \"f. Above 80 - A\\n\",\n",
    "    \"\\n\",\n",
    "    \"Ask user to enter marks and print the corresponding grade."
   ]
  },
  {
   "cell_type": "code",
   "execution_count": 59,
   "id": "cfc90834-f16c-4d7b-a162-18b6f5a9f544",
   "metadata": {},
   "outputs": [
    {
     "name": "stdin",
     "output_type": "stream",
     "text": [
      "Enter your marks here: 88\n"
     ]
    },
    {
     "name": "stdout",
     "output_type": "stream",
     "text": [
      "You secure A grade achiveing 88 marks\n"
     ]
    }
   ],
   "source": [
    "marks = int(input(\"Enter your marks here:\"))\n",
    "\n",
    "if(marks >= 80):\n",
    "    print(f'You secure A grade achiveing {marks} marks')\n",
    "elif(marks >= 60 ):\n",
    "    print(f'You secure B grade achieving {marks} marks')\n",
    "elif(marks >= 50):\n",
    "    print(f'You secure C grade achieving {marks} marks')\n",
    "elif(marks >= 45):\n",
    "    print(f'You secure D grade achieving {marks} marks')\n",
    "elif(marks >= 25):\n",
    "    print(f'You secure E grade achieving {marks} marks')\n",
    "else:\n",
    "    print(f'You are failed achieving {marks} marks')"
   ]
  },
  {
   "cell_type": "markdown",
   "id": "0583be69-9681-4a74-9e06-dee7e0674d88",
   "metadata": {},
   "source": [
    " \"14)A student will not be allowed to sit in exam if his/her attendence is less than 75%.\\n\",\n",
    "    \"\\n\",\n",
    "    \"Take following input from user\\n\",\n",
    "    \"\\n\",\n",
    "    \"- Number of classes held\\n\",\n",
    "    \"\\n\",\n",
    "    \"- Number of classes attended.\\n\",\n",
    "    \"\\n\",\n",
    "    \"And print\\n\",\n",
    "    \"\\n\",\n",
    "    \"- percentage of class attended\\n\",\n",
    "    \"\\n\",\n",
    "    \"- Is student is allowed to sit in exam or not.\\n\""
   ]
  },
  {
   "cell_type": "code",
   "execution_count": 67,
   "id": "8810920b-857f-4edd-9f41-602fd46378d1",
   "metadata": {},
   "outputs": [
    {
     "name": "stdin",
     "output_type": "stream",
     "text": [
      "Enter number of classes held: 60\n",
      "Enter number of attendence in classes : 52\n"
     ]
    },
    {
     "name": "stdout",
     "output_type": "stream",
     "text": [
      "Percentage of classes attended: 86.67%\n",
      "The student is allowed to sit in the exam.\n"
     ]
    }
   ],
   "source": [
    "classes_held = int(input(\"Enter number of classes held:\"))\n",
    "classes_attended = int(input(\"Enter number of attendence in classes :\"))\n",
    "if(classes_held <= 0 ):\n",
    "    print('Invalid input: Number of classes held must be greater than 0.')\n",
    "elif(classes_attended < 0 or classes_attended > classes_held):\n",
    "    print(f'Invalid input: Attended classes must be between 0 and the number of classes held')\n",
    "else:\n",
    "    attendance = (classes_attended / classes_held)*100\n",
    "    print(f\"Percentage of classes attended: {attendance:.2f}%\")\n",
    "    if(attendance >= 75):\n",
    "        print(f'The student is allowed to sit in the exam.')\n",
    "    else:\n",
    "        print(f'The student is not allowed to sit in the exam hall. ')"
   ]
  },
  {
   "cell_type": "markdown",
   "id": "8b498073-5952-480a-ac06-be67719f6fcf",
   "metadata": {},
   "source": [
    "15) Modify the above question to allow student to sit if he/she has medical cause. Ask user if he/she has medical cause or not ( 'Y' or 'N' ) and print accordingly."
   ]
  },
  {
   "cell_type": "code",
   "execution_count": 70,
   "id": "5dab2747-c765-4208-8420-7cee59a5ba07",
   "metadata": {
    "scrolled": true
   },
   "outputs": [
    {
     "name": "stdin",
     "output_type": "stream",
     "text": [
      "Enter number of classes held: 60\n",
      "Enter number of attendence in classes : 23\n",
      "Enter 'Y' if you have any medical issues else press 'N' : Y\n"
     ]
    },
    {
     "name": "stdout",
     "output_type": "stream",
     "text": [
      "Percentage of classes attended: 38.33%\n",
      "You are allow to sit in exam hall. Because of your health condition.\n"
     ]
    }
   ],
   "source": [
    "classes_held = int(input(\"Enter number of classes held:\"))\n",
    "classes_attended = int(input(\"Enter number of attendence in classes :\"))\n",
    "medical_cause = str(input(\"Enter 'Y' if you have any medical issues else press 'N' :\"))\n",
    "if(classes_held <= 0 ):\n",
    "    print('Invalid input: Number of classes held must be greater than 0.')\n",
    "elif(classes_attended < 0 or classes_attended > classes_held):\n",
    "    print(f'Invalid input: Attended classes must be between 0 and the number of classes held')\n",
    "else:\n",
    "    attendance = (classes_attended / classes_held)*100\n",
    "    print(f\"Percentage of classes attended: {attendance:.2f}%\")\n",
    "    if(attendance >= 75):\n",
    "        print(f'The student is allowed to sit in the exam.')\n",
    "    elif(medical_cause == \"Y\"):\n",
    "        print(f'You are allow to sit in exam hall. Because of your medical issues condition.')\n",
    "    else:\n",
    "        print(f'The student is not allowed to sit in the exam hall. ')"
   ]
  },
  {
   "cell_type": "markdown",
   "id": "e5848cc6-bf40-46d5-b3a2-f31ef333cb45",
   "metadata": {},
   "source": [
    "16) Write a program to check if a year is leap year or not.\\n\",\n",
    "    \"\\n\",\n",
    "    \"If a year is divisible by 4 then it is leap year but if the year is century year like 2000, 1900, 2100 then it must be divisible by 400.\""
   ]
  },
  {
   "cell_type": "code",
   "execution_count": 74,
   "id": "703203f7-cdfb-449e-9c9c-ade892d8d6f9",
   "metadata": {},
   "outputs": [
    {
     "name": "stdin",
     "output_type": "stream",
     "text": [
      "Enter a year : 12\n"
     ]
    },
    {
     "name": "stdout",
     "output_type": "stream",
     "text": [
      "It is leap year.\n"
     ]
    }
   ],
   "source": [
    "year = int(input(\"Enter a year :\"))\n",
    "if(year % 4 == 0):\n",
    "    print(f'It is leap year.')\n",
    "else:\n",
    "    print(f'It is not leap year.')"
   ]
  },
  {
   "cell_type": "markdown",
   "id": "7e5b3697-e94d-4a7f-b207-86357281188a",
   "metadata": {},
   "source": [
    "17) Ask user to enter age, gender ( M or F ), marital status ( Y or N ) and then using following rules print their place of service.\\n\",\n",
    "    \"\\n\",\n",
    "    \"if employee is female, then she will work only in urban areas.\\n\",\n",
    "    \"\\n\",\n",
    "    \"if employee is a male and age is in between 20 to 40 then he may work in anywhere\\n\",\n",
    "    \"\\n\",\n",
    "    \"if employee is male and age is in between 40 t0 60 then he will work in urban areas only.\\n\",\n",
    "    \"\\n\",\n",
    "    \"And any other input of age should print \\\"ERROR\\\"\""
   ]
  },
  {
   "cell_type": "code",
   "execution_count": 76,
   "id": "2e4922f4-5be8-4f1f-a8db-de3654d55733",
   "metadata": {},
   "outputs": [
    {
     "name": "stdin",
     "output_type": "stream",
     "text": [
      "Enter your age here : 32\n",
      "Enter your gender if male enter 'M' else enter 'F' : M\n",
      "Enter your marital status if married 'Y' else 'N' : N\n"
     ]
    },
    {
     "name": "stdout",
     "output_type": "stream",
     "text": [
      "You will work anywhere.\n"
     ]
    }
   ],
   "source": [
    "age = int(input(\"Enter your age here :\"))\n",
    "gender = str(input(\"Enter your gender if male enter 'M' else enter 'F' :\"))\n",
    "marital_status = str(input(\"Enter your marital status if married 'Y' else 'N' :\"))\n",
    "\n",
    "if(gender == \"F\"):\n",
    "    print(f'You will work only in urban areas.')\n",
    "elif(gender == \"M\" or age >=20):\n",
    "    print(\"You will work anywhere.\")\n",
    "elif(age >= 40):\n",
    "    print('You will work only in urban areas')\n",
    "else:\n",
    "    print('Error')"
   ]
  },
  {
   "cell_type": "markdown",
   "id": "1b17b58a-801a-4995-90d9-c556bfc06c1a",
   "metadata": {},
   "source": [
    "6) Write a program to calculate the electricity bill (accept number of unit from user) according to the following criteria :\\n\",\n",
    "    \"     Unit                                                     Price  \\n\",\n",
    "    \"uptp 100 units                                             no charge\\n\",\n",
    "    \"Next 200 units                                              Rs 5 per unit\\n\",\n",
    "    \"After 200 units                                             Rs 10 per unit\\n\",\n",
    "    \"(For example if input unit is 350 than total bill amount is Rs.3500\\n\",\n",
    "    \"(For example if input unit is 97 than total bill amount is Rs.0\\n\",\n",
    "    \"(For example if input unit is 150 than total bill amount is Rs.750\""
   ]
  },
  {
   "cell_type": "code",
   "execution_count": 14,
   "id": "930ce593-759d-4473-9a34-07018472a90b",
   "metadata": {},
   "outputs": [
    {
     "name": "stdin",
     "output_type": "stream",
     "text": [
      "Enter your electricity bill units : 130\n"
     ]
    },
    {
     "name": "stdout",
     "output_type": "stream",
     "text": [
      "Toal bill amount is Rs.150\n"
     ]
    }
   ],
   "source": [
    "electricity_bill = int(input(\"Enter your electricity bill units :\"))\n",
    "if(electricity_bill <= 100):\n",
    "    bill = 0\n",
    "elif(electricity_bill <= 200):\n",
    "    bill = (electricity_bill - 100)*5\n",
    "    print(f'Total bill amount is Rs.{bill}')\n",
    "else:\n",
    "    bill = (electricity_bill - 200)*10 + 500\n",
    "    print(f'Total bill amount is Rs.{bill}')"
   ]
  },
  {
   "cell_type": "markdown",
   "id": "3b76c74c-d06b-45f1-9411-b778b9b83507",
   "metadata": {},
   "source": [
    "\"13) Take input of age of 3 people by user and determine oldest and youngest among them.\""
   ]
  },
  {
   "cell_type": "code",
   "execution_count": null,
   "id": "9bbe9d75-1dc2-4047-95af-e460cbd0985a",
   "metadata": {},
   "outputs": [],
   "source": [
    "age1 = int(input(\"Enter age of the first person: \"))\n",
    "age2 = int(input(\"Enter age of the second person: \"))\n",
    "age3 = int(input(\"Enter age of the third person: \"))\n",
    "\n",
    "if age1 >= age2 and age1 >= age3:\n",
    "    oldest = age1\n",
    "elif age2 >= age1 and age2 >= age3:\n",
    "    oldest = age2\n",
    "else:\n",
    "    oldest = age3\n",
    "\n",
    "\n",
    "if age1 <= age2 and age1 <= age3:\n",
    "    youngest = age1\n",
    "elif age2 <= age1 and age2 <= age3:\n",
    "    youngest = age2\n",
    "else:\n",
    "    youngest = age3\n",
    "\n",
    "\n",
    "print(f\"The oldest age is: {oldest}\")\n",
    "print(f\"The youngest age is: {youngest}\")\n"
   ]
  },
  {
   "cell_type": "code",
   "execution_count": null,
   "id": "76be374b-73fe-403e-8a7c-9f16340031ad",
   "metadata": {},
   "outputs": [],
   "source": []
  }
 ],
 "metadata": {
  "kernelspec": {
   "display_name": "Python 3 (ipykernel)",
   "language": "python",
   "name": "python3"
  },
  "language_info": {
   "codemirror_mode": {
    "name": "ipython",
    "version": 3
   },
   "file_extension": ".py",
   "mimetype": "text/x-python",
   "name": "python",
   "nbconvert_exporter": "python",
   "pygments_lexer": "ipython3",
   "version": "3.13.5"
  }
 },
 "nbformat": 4,
 "nbformat_minor": 5
}
